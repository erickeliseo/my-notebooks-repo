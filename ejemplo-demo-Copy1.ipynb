{
 "cells": [
  {
   "cell_type": "markdown",
   "id": "ca394852-f8c6-4319-9211-02a5e6ff5b7d",
   "metadata": {},
   "source": [
    "Instalar dependencias"
   ]
  },
  {
   "cell_type": "code",
   "execution_count": null,
   "id": "9f0de5b1-be3e-4cde-b3d1-f479624e3583",
   "metadata": {
    "tags": []
   },
   "outputs": [],
   "source": [
    "!pip install pandas\n",
    "!pip install numpy\n",
    "!pip install plotly"
   ]
  },
  {
   "cell_type": "markdown",
   "id": "29aa7817-9eeb-41cc-89c0-7cc03146aa8e",
   "metadata": {},
   "source": [
    "Ejecutar programa"
   ]
  },
  {
   "cell_type": "code",
   "execution_count": 2,
   "id": "c7d07699-494d-4407-8485-8cea165ab3c7",
   "metadata": {
    "tags": []
   },
   "outputs": [
    {
     "data": {
      "text/html": [
       "<iframe\n",
       "    scrolling=\"no\"\n",
       "    width=\"100%\"\n",
       "    height=\"545px\"\n",
       "    src=\"iframe_figures/figure_2.html\"\n",
       "    frameborder=\"0\"\n",
       "    allowfullscreen\n",
       "></iframe>\n"
      ]
     },
     "metadata": {},
     "output_type": "display_data"
    }
   ],
   "source": [
    "import numpy as np\n",
    "import plotly.express as px\n",
    "import plotly.io as pio\n",
    "\n",
    "# Asegura que Plotly renderice correctamente en JupyterLab\n",
    "pio.renderers.default = 'iframe'  # También puedes probar con 'notebook', 'notebook_connected'\n",
    "\n",
    "# x-axis data points\n",
    "x = np.linspace(start=-50, stop=50)\n",
    "\n",
    "# y-axis data points\n",
    "y = x ** 2\n",
    "\n",
    "# define the plot\n",
    "fig = px.scatter(x=x, y=y)\n",
    "\n",
    "# show the plot\n",
    "fig.show()"
   ]
  },
  {
   "cell_type": "code",
   "execution_count": null,
   "id": "0b6eff7d-6067-48f3-88ad-d88e7c853085",
   "metadata": {},
   "outputs": [],
   "source": []
  }
 ],
 "metadata": {
  "kernelspec": {
   "display_name": "Python 3.9",
   "language": "python",
   "name": "python3"
  },
  "language_info": {
   "codemirror_mode": {
    "name": "ipython",
    "version": 3
   },
   "file_extension": ".py",
   "mimetype": "text/x-python",
   "name": "python",
   "nbconvert_exporter": "python",
   "pygments_lexer": "ipython3",
   "version": "3.9.16"
  }
 },
 "nbformat": 4,
 "nbformat_minor": 5
}
